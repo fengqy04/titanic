{
 "cells": [
  {
   "cell_type": "markdown",
   "metadata": {},
   "source": [
    "# Project: Investigate A Dataset - Titanic Data\n",
    "This report is for the final project of the *Introduction to Data Analysis* course on Udacity. I choose to work with the Titanic dataset from the [Kaggle website](https://www.kaggle.com/c/titanic/data) for this project. First, I will pose a question related to this dataset. I will then make use of what I have learned in the course to cleanse and explore the data."
   ]
  },
  {
   "cell_type": "markdown",
   "metadata": {},
   "source": [
    "## 1 Questions to Answer\n",
    "The data contains demographics and information of 891 out of 2,224 passengers and crew on board the Titanic. As one of the deadliest peacetime maritime disasters in history, what I am most concerned about is the casualties and survivors. How many survivors in the disaster and what makes them survive? Is a single person more likely to survive than a whole family? Does a child have more chances to survive than an adult? Or does the ticket class matter? I will explore these questions in deep below."
   ]
  },
  {
   "cell_type": "markdown",
   "metadata": {},
   "source": [
    "## 2 Data Summary\n",
    "Now I will first aquire the dataset and take a peek at it."
   ]
  },
  {
   "cell_type": "code",
   "execution_count": 202,
   "metadata": {
    "collapsed": true
   },
   "outputs": [],
   "source": [
    "# Imports\n",
    "import pandas as pd\n",
    "import numpy as np\n",
    "import matplotlib.pyplot as plt\n",
    "import seaborn as sns\n",
    "from scipy import stats\n",
    "%matplotlib inline"
   ]
  },
  {
   "cell_type": "code",
   "execution_count": 203,
   "metadata": {
    "collapsed": false
   },
   "outputs": [
    {
     "data": {
      "text/html": [
       "<div>\n",
       "<table border=\"1\" class=\"dataframe\">\n",
       "  <thead>\n",
       "    <tr style=\"text-align: right;\">\n",
       "      <th></th>\n",
       "      <th>PassengerId</th>\n",
       "      <th>Survived</th>\n",
       "      <th>Pclass</th>\n",
       "      <th>Name</th>\n",
       "      <th>Sex</th>\n",
       "      <th>Age</th>\n",
       "      <th>SibSp</th>\n",
       "      <th>Parch</th>\n",
       "      <th>Ticket</th>\n",
       "      <th>Fare</th>\n",
       "      <th>Cabin</th>\n",
       "      <th>Embarked</th>\n",
       "    </tr>\n",
       "  </thead>\n",
       "  <tbody>\n",
       "    <tr>\n",
       "      <th>0</th>\n",
       "      <td>1</td>\n",
       "      <td>0</td>\n",
       "      <td>3</td>\n",
       "      <td>Braund, Mr. Owen Harris</td>\n",
       "      <td>male</td>\n",
       "      <td>22.0</td>\n",
       "      <td>1</td>\n",
       "      <td>0</td>\n",
       "      <td>A/5 21171</td>\n",
       "      <td>7.2500</td>\n",
       "      <td>NaN</td>\n",
       "      <td>S</td>\n",
       "    </tr>\n",
       "    <tr>\n",
       "      <th>1</th>\n",
       "      <td>2</td>\n",
       "      <td>1</td>\n",
       "      <td>1</td>\n",
       "      <td>Cumings, Mrs. John Bradley (Florence Briggs Th...</td>\n",
       "      <td>female</td>\n",
       "      <td>38.0</td>\n",
       "      <td>1</td>\n",
       "      <td>0</td>\n",
       "      <td>PC 17599</td>\n",
       "      <td>71.2833</td>\n",
       "      <td>C85</td>\n",
       "      <td>C</td>\n",
       "    </tr>\n",
       "    <tr>\n",
       "      <th>2</th>\n",
       "      <td>3</td>\n",
       "      <td>1</td>\n",
       "      <td>3</td>\n",
       "      <td>Heikkinen, Miss. Laina</td>\n",
       "      <td>female</td>\n",
       "      <td>26.0</td>\n",
       "      <td>0</td>\n",
       "      <td>0</td>\n",
       "      <td>STON/O2. 3101282</td>\n",
       "      <td>7.9250</td>\n",
       "      <td>NaN</td>\n",
       "      <td>S</td>\n",
       "    </tr>\n",
       "    <tr>\n",
       "      <th>3</th>\n",
       "      <td>4</td>\n",
       "      <td>1</td>\n",
       "      <td>1</td>\n",
       "      <td>Futrelle, Mrs. Jacques Heath (Lily May Peel)</td>\n",
       "      <td>female</td>\n",
       "      <td>35.0</td>\n",
       "      <td>1</td>\n",
       "      <td>0</td>\n",
       "      <td>113803</td>\n",
       "      <td>53.1000</td>\n",
       "      <td>C123</td>\n",
       "      <td>S</td>\n",
       "    </tr>\n",
       "    <tr>\n",
       "      <th>4</th>\n",
       "      <td>5</td>\n",
       "      <td>0</td>\n",
       "      <td>3</td>\n",
       "      <td>Allen, Mr. William Henry</td>\n",
       "      <td>male</td>\n",
       "      <td>35.0</td>\n",
       "      <td>0</td>\n",
       "      <td>0</td>\n",
       "      <td>373450</td>\n",
       "      <td>8.0500</td>\n",
       "      <td>NaN</td>\n",
       "      <td>S</td>\n",
       "    </tr>\n",
       "  </tbody>\n",
       "</table>\n",
       "</div>"
      ],
      "text/plain": [
       "   PassengerId  Survived  Pclass  \\\n",
       "0            1         0       3   \n",
       "1            2         1       1   \n",
       "2            3         1       3   \n",
       "3            4         1       1   \n",
       "4            5         0       3   \n",
       "\n",
       "                                                Name     Sex   Age  SibSp  \\\n",
       "0                            Braund, Mr. Owen Harris    male  22.0      1   \n",
       "1  Cumings, Mrs. John Bradley (Florence Briggs Th...  female  38.0      1   \n",
       "2                             Heikkinen, Miss. Laina  female  26.0      0   \n",
       "3       Futrelle, Mrs. Jacques Heath (Lily May Peel)  female  35.0      1   \n",
       "4                           Allen, Mr. William Henry    male  35.0      0   \n",
       "\n",
       "   Parch            Ticket     Fare Cabin Embarked  \n",
       "0      0         A/5 21171   7.2500   NaN        S  \n",
       "1      0          PC 17599  71.2833   C85        C  \n",
       "2      0  STON/O2. 3101282   7.9250   NaN        S  \n",
       "3      0            113803  53.1000  C123        S  \n",
       "4      0            373450   8.0500   NaN        S  "
      ]
     },
     "execution_count": 203,
     "metadata": {},
     "output_type": "execute_result"
    }
   ],
   "source": [
    "# Load in the titanic csv file as a DataFrame\n",
    "titanic_df = pd.read_csv('titanic-data.csv')\n",
    "\n",
    "# Preview the data\n",
    "titanic_df.head()"
   ]
  },
  {
   "cell_type": "code",
   "execution_count": 204,
   "metadata": {
    "collapsed": false,
    "scrolled": true
   },
   "outputs": [
    {
     "name": "stdout",
     "output_type": "stream",
     "text": [
      "<class 'pandas.core.frame.DataFrame'>\n",
      "RangeIndex: 891 entries, 0 to 890\n",
      "Data columns (total 12 columns):\n",
      "PassengerId    891 non-null int64\n",
      "Survived       891 non-null int64\n",
      "Pclass         891 non-null int64\n",
      "Name           891 non-null object\n",
      "Sex            891 non-null object\n",
      "Age            714 non-null float64\n",
      "SibSp          891 non-null int64\n",
      "Parch          891 non-null int64\n",
      "Ticket         891 non-null object\n",
      "Fare           891 non-null float64\n",
      "Cabin          204 non-null object\n",
      "Embarked       889 non-null object\n",
      "dtypes: float64(2), int64(5), object(5)\n",
      "memory usage: 83.6+ KB\n"
     ]
    }
   ],
   "source": [
    "titanic_df.info()"
   ]
  },
  {
   "cell_type": "code",
   "execution_count": 205,
   "metadata": {
    "collapsed": false
   },
   "outputs": [
    {
     "data": {
      "text/html": [
       "<div>\n",
       "<table border=\"1\" class=\"dataframe\">\n",
       "  <thead>\n",
       "    <tr style=\"text-align: right;\">\n",
       "      <th></th>\n",
       "      <th>PassengerId</th>\n",
       "      <th>Survived</th>\n",
       "      <th>Pclass</th>\n",
       "      <th>Age</th>\n",
       "      <th>SibSp</th>\n",
       "      <th>Parch</th>\n",
       "      <th>Fare</th>\n",
       "    </tr>\n",
       "  </thead>\n",
       "  <tbody>\n",
       "    <tr>\n",
       "      <th>count</th>\n",
       "      <td>891.000000</td>\n",
       "      <td>891.000000</td>\n",
       "      <td>891.000000</td>\n",
       "      <td>714.000000</td>\n",
       "      <td>891.000000</td>\n",
       "      <td>891.000000</td>\n",
       "      <td>891.000000</td>\n",
       "    </tr>\n",
       "    <tr>\n",
       "      <th>mean</th>\n",
       "      <td>446.000000</td>\n",
       "      <td>0.383838</td>\n",
       "      <td>2.308642</td>\n",
       "      <td>29.699118</td>\n",
       "      <td>0.523008</td>\n",
       "      <td>0.381594</td>\n",
       "      <td>32.204208</td>\n",
       "    </tr>\n",
       "    <tr>\n",
       "      <th>std</th>\n",
       "      <td>257.353842</td>\n",
       "      <td>0.486592</td>\n",
       "      <td>0.836071</td>\n",
       "      <td>14.526497</td>\n",
       "      <td>1.102743</td>\n",
       "      <td>0.806057</td>\n",
       "      <td>49.693429</td>\n",
       "    </tr>\n",
       "    <tr>\n",
       "      <th>min</th>\n",
       "      <td>1.000000</td>\n",
       "      <td>0.000000</td>\n",
       "      <td>1.000000</td>\n",
       "      <td>0.420000</td>\n",
       "      <td>0.000000</td>\n",
       "      <td>0.000000</td>\n",
       "      <td>0.000000</td>\n",
       "    </tr>\n",
       "    <tr>\n",
       "      <th>25%</th>\n",
       "      <td>223.500000</td>\n",
       "      <td>0.000000</td>\n",
       "      <td>2.000000</td>\n",
       "      <td>20.125000</td>\n",
       "      <td>0.000000</td>\n",
       "      <td>0.000000</td>\n",
       "      <td>7.910400</td>\n",
       "    </tr>\n",
       "    <tr>\n",
       "      <th>50%</th>\n",
       "      <td>446.000000</td>\n",
       "      <td>0.000000</td>\n",
       "      <td>3.000000</td>\n",
       "      <td>28.000000</td>\n",
       "      <td>0.000000</td>\n",
       "      <td>0.000000</td>\n",
       "      <td>14.454200</td>\n",
       "    </tr>\n",
       "    <tr>\n",
       "      <th>75%</th>\n",
       "      <td>668.500000</td>\n",
       "      <td>1.000000</td>\n",
       "      <td>3.000000</td>\n",
       "      <td>38.000000</td>\n",
       "      <td>1.000000</td>\n",
       "      <td>0.000000</td>\n",
       "      <td>31.000000</td>\n",
       "    </tr>\n",
       "    <tr>\n",
       "      <th>max</th>\n",
       "      <td>891.000000</td>\n",
       "      <td>1.000000</td>\n",
       "      <td>3.000000</td>\n",
       "      <td>80.000000</td>\n",
       "      <td>8.000000</td>\n",
       "      <td>6.000000</td>\n",
       "      <td>512.329200</td>\n",
       "    </tr>\n",
       "  </tbody>\n",
       "</table>\n",
       "</div>"
      ],
      "text/plain": [
       "       PassengerId    Survived      Pclass         Age       SibSp  \\\n",
       "count   891.000000  891.000000  891.000000  714.000000  891.000000   \n",
       "mean    446.000000    0.383838    2.308642   29.699118    0.523008   \n",
       "std     257.353842    0.486592    0.836071   14.526497    1.102743   \n",
       "min       1.000000    0.000000    1.000000    0.420000    0.000000   \n",
       "25%     223.500000    0.000000    2.000000   20.125000    0.000000   \n",
       "50%     446.000000    0.000000    3.000000   28.000000    0.000000   \n",
       "75%     668.500000    1.000000    3.000000   38.000000    1.000000   \n",
       "max     891.000000    1.000000    3.000000   80.000000    8.000000   \n",
       "\n",
       "            Parch        Fare  \n",
       "count  891.000000  891.000000  \n",
       "mean     0.381594   32.204208  \n",
       "std      0.806057   49.693429  \n",
       "min      0.000000    0.000000  \n",
       "25%      0.000000    7.910400  \n",
       "50%      0.000000   14.454200  \n",
       "75%      0.000000   31.000000  \n",
       "max      6.000000  512.329200  "
      ]
     },
     "execution_count": 205,
     "metadata": {},
     "output_type": "execute_result"
    }
   ],
   "source": [
    "titanic_df.describe()"
   ]
  },
  {
   "cell_type": "markdown",
   "metadata": {},
   "source": [
    "There are 891 observations of 12 variables in the dataset. The description of each variable is illustrated on the [Kaggle website](https://www.kaggle.com/c/titanic/data). From the first few observations and descriptive summary above, we are able to tell some initial sense about the data.\n",
    "\n",
    "**Data type of variables:**\n",
    "- Categorical: **Survived**, **Pclass**, **Sex**, **Embarked**\n",
    "- Ratio: **Age**, **SibSp**, **Parch**, **Fare**\n",
    "- Other: **Name**, **Ticket**, **Cabin**\n",
    "\n",
    "**Variables that may contain nulls or errors:**\n",
    "- There are less than 891 of valid inputs in **Age**, **Cabin** and **Embarked**, which may contain blanks or nulls and require completing.\n",
    "- There are titles, first and last name, and alternative name in parenthesis in **Name**. It may require correcting or dropping.\n",
    "\n",
    "**Some facts:**\n",
    "- 38.38% of passengers in the sample survived.\n",
    "- More than half of the passengers were in the third ticket class.\n",
    "- 3/4 of them were under 38 years old. There might be few elderly people on board.\n",
    "- Less than half of passengers traveled with their spouse or siblings, and most of them did not have their children or parents aboard.\n",
    "- The distribution of fare might display a very long right tail - with $512 as the top price."
   ]
  },
  {
   "cell_type": "markdown",
   "metadata": {},
   "source": [
    "## 3 Data Wrangling\n",
    "Based on the brief desciptions above, we proceed to data wrangling process and clean the data by following steps:\n",
    "- **PassengerId** and **Name**: drop variables because there is no relationship with survival on common sense\n",
    "- **Age**: complete blanks; integrate with **Sex** and create a new variable **Person** with categories of child, female, and male\n",
    "- **SibSp** and **Parch**: integrate to create a new variable **Family** with number of family members aboard; create a new dummy variable **IsAlone** to describe whether or not the person was aboard alone\n",
    "- **Ticket** and **Cabin**: drop variables because too many N/A values in these columns and there is no relationship with survival on common sense\n",
    "- **Embarked**: complete blanks"
   ]
  },
  {
   "cell_type": "markdown",
   "metadata": {},
   "source": [
    "### 3.1 Age\n",
    "One of the simplest way to complete null values is to generate random numbers from mean and standard deviation. We can also use other correlated variables to simulate missing values in **Age**, but it seems too complicated for this dataset. So I am going to use the easier way at this moment."
   ]
  },
  {
   "cell_type": "code",
   "execution_count": 206,
   "metadata": {
    "collapsed": false
   },
   "outputs": [],
   "source": [
    "# Drop variables we do not need\n",
    "titanic_df = titanic_df.drop(['Name', 'PassengerId', 'Ticket', 'Cabin'], axis = 1)\n",
    "\n",
    "# Change Fare data to integers\n",
    "titanic_df['Fare'] = titanic_df['Fare'].astype(int)"
   ]
  },
  {
   "cell_type": "code",
   "execution_count": 207,
   "metadata": {
    "collapsed": false
   },
   "outputs": [
    {
     "name": "stdout",
     "output_type": "stream",
     "text": [
      "177\n"
     ]
    }
   ],
   "source": [
    "# Get mean, standard deviation and no. of nulls in Age\n",
    "age_avg = titanic_df['Age'].mean()\n",
    "age_std = titanic_df['Age'].std()\n",
    "age_null = titanic_df['Age'].isnull().sum()\n",
    "\n",
    "print age_null"
   ]
  },
  {
   "cell_type": "code",
   "execution_count": 208,
   "metadata": {
    "collapsed": false
   },
   "outputs": [],
   "source": [
    "# There are 177 null values in Age!\n",
    "# Generate random numbers between one standard deviation from the mean\n",
    "age_rand = np.random.randint(age_avg - age_std, high=age_avg + age_std, size=age_null)"
   ]
  },
  {
   "cell_type": "code",
   "execution_count": 209,
   "metadata": {
    "collapsed": false
   },
   "outputs": [
    {
     "name": "stderr",
     "output_type": "stream",
     "text": [
      "/Applications/anaconda/envs/DAND/lib/python2.7/site-packages/ipykernel/__main__.py:3: SettingWithCopyWarning: \n",
      "A value is trying to be set on a copy of a slice from a DataFrame\n",
      "\n",
      "See the caveats in the documentation: http://pandas.pydata.org/pandas-docs/stable/indexing.html#indexing-view-versus-copy\n",
      "  app.launch_new_instance()\n"
     ]
    }
   ],
   "source": [
    "# Create a new variable NewAge and fill in the null values\n",
    "titanic_df['NewAge'] = titanic_df['Age']\n",
    "titanic_df['NewAge'][np.isnan(titanic_df['NewAge'])] = age_rand\n",
    "\n",
    "titanic_df['Age'] = titanic_df['Age'].dropna().astype(int)\n",
    "titanic_df['NewAge'] = titanic_df['NewAge'].astype(int)"
   ]
  },
  {
   "cell_type": "markdown",
   "metadata": {},
   "source": [
    "Now we can plot the original and new age data to see whether the null values are completed well."
   ]
  },
  {
   "cell_type": "code",
   "execution_count": 210,
   "metadata": {
    "collapsed": false
   },
   "outputs": [
    {
     "data": {
      "text/plain": [
       "<matplotlib.axes._subplots.AxesSubplot at 0x11f3896d0>"
      ]
     },
     "execution_count": 210,
     "metadata": {},
     "output_type": "execute_result"
    },
    {
     "data": {
      "image/png": "[encoded data removed]",
      "text/plain": [
       "<matplotlib.figure.Figure at 0x11e7c7150>"
      ]
     },
     "metadata": {},
     "output_type": "display_data"
    }
   ],
   "source": [
    "# Plot the original and new age data\n",
    "fig, (axis1, axis2) = plt.subplots(1, 2, figsize=(15, 5))\n",
    "axis1.set_title('Original Age Distribution')\n",
    "axis2.set_title('New Age Distribution')\n",
    "axis1.set_xlabel('Age')\n",
    "axis2.set_xlabel('Age')\n",
    "axis1.set_ylabel('Count')\n",
    "axis2.set_ylabel('Count')\n",
    "\n",
    "titanic_df['Age'].dropna().hist(bins=40, ax=axis1)\n",
    "titanic_df['NewAge'].hist(bins=40, ax=axis2)"
   ]
  },
  {
   "cell_type": "markdown",
   "metadata": {},
   "source": [
    "From the two graphs above we can tell that the new age data has similar distribution with the original data. We can drop the old data and do analysis with the new one."
   ]
  },
  {
   "cell_type": "code",
   "execution_count": 211,
   "metadata": {
    "collapsed": true
   },
   "outputs": [],
   "source": [
    "# Drop old age data\n",
    "titanic_df['Age'] = titanic_df['NewAge']\n",
    "titanic_df = titanic_df.drop(['NewAge'], axis=1)"
   ]
  },
  {
   "cell_type": "code",
   "execution_count": 212,
   "metadata": {
    "collapsed": false
   },
   "outputs": [],
   "source": [
    "# Create a new variable Person with categories of child, female and male\n",
    "titanic_df['Person'] = titanic_df['Sex']\n",
    "titanic_df['Person'].loc[titanic_df['Age'] < 16] = 'Child'\n",
    "titanic_df['Person'] = titanic_df['Person'].replace({'female':'Female', 'male':'Male'})\n",
    "\n",
    "# Drop Sex\n",
    "titanic_df = titanic_df.drop(['Sex'], axis=1)"
   ]
  },
  {
   "cell_type": "markdown",
   "metadata": {},
   "source": [
    "### 3.2 Family"
   ]
  },
  {
   "cell_type": "code",
   "execution_count": 213,
   "metadata": {
    "collapsed": false
   },
   "outputs": [],
   "source": [
    "# Create a new variable Family to count the number of family member aboard\n",
    "titanic_df['Family'] = titanic_df['SibSp'] + titanic_df['Parch'] + 1\n",
    "\n",
    "# Also create a new dummy variable IsAlone by Family\n",
    "titanic_df['IsAlone'] = 'With Family'\n",
    "titanic_df['IsAlone'].loc[titanic_df['Family'] == 1] = 'Alone'"
   ]
  },
  {
   "cell_type": "code",
   "execution_count": 214,
   "metadata": {
    "collapsed": false
   },
   "outputs": [],
   "source": [
    "# Drop SibSp and Parch\n",
    "titanic_df = titanic_df.drop(['SibSp', 'Parch'], axis=1)"
   ]
  },
  {
   "cell_type": "markdown",
   "metadata": {},
   "source": [
    "### 3.3 Embarked"
   ]
  },
  {
   "cell_type": "code",
   "execution_count": 215,
   "metadata": {
    "collapsed": false
   },
   "outputs": [],
   "source": [
    "# Complete nulls in Embarked with the most frequent embarkment\n",
    "emb_mode = titanic_df['Embarked'].dropna().mode()[0]\n",
    "titanic_df['Embarked'] = titanic_df['Embarked'].fillna(emb_mode)"
   ]
  },
  {
   "cell_type": "code",
   "execution_count": 216,
   "metadata": {
    "collapsed": false
   },
   "outputs": [],
   "source": [
    "# Replace embarkment name instead of abbreviations\n",
    "titanic_df['Embarked'] = titanic_df['Embarked'].replace({'C':'Cherbourg', 'Q':'Queenstown', 'S':'Southampton'})"
   ]
  },
  {
   "cell_type": "code",
   "execution_count": 217,
   "metadata": {
    "collapsed": true
   },
   "outputs": [],
   "source": [
    "# Create a descriptive variable to describe the survival status\n",
    "titanic_df['Survived_d'] = 'Survived'\n",
    "titanic_df['Survived_d'].loc[titanic_df['Survived'] == 0] = 'Not Survived'"
   ]
  },
  {
   "cell_type": "markdown",
   "metadata": {},
   "source": [
    "### 3.4 Summary"
   ]
  },
  {
   "cell_type": "code",
   "execution_count": 218,
   "metadata": {
    "collapsed": false
   },
   "outputs": [
    {
     "data": {
      "text/html": [
       "<div>\n",
       "<table border=\"1\" class=\"dataframe\">\n",
       "  <thead>\n",
       "    <tr style=\"text-align: right;\">\n",
       "      <th></th>\n",
       "      <th>Survived</th>\n",
       "      <th>Pclass</th>\n",
       "      <th>Age</th>\n",
       "      <th>Fare</th>\n",
       "      <th>Embarked</th>\n",
       "      <th>Person</th>\n",
       "      <th>Family</th>\n",
       "      <th>IsAlone</th>\n",
       "      <th>Survived_d</th>\n",
       "    </tr>\n",
       "  </thead>\n",
       "  <tbody>\n",
       "    <tr>\n",
       "      <th>0</th>\n",
       "      <td>0</td>\n",
       "      <td>3</td>\n",
       "      <td>22</td>\n",
       "      <td>7</td>\n",
       "      <td>Southampton</td>\n",
       "      <td>Male</td>\n",
       "      <td>2</td>\n",
       "      <td>With Family</td>\n",
       "      <td>Not Survived</td>\n",
       "    </tr>\n",
       "    <tr>\n",
       "      <th>1</th>\n",
       "      <td>1</td>\n",
       "      <td>1</td>\n",
       "      <td>38</td>\n",
       "      <td>71</td>\n",
       "      <td>Cherbourg</td>\n",
       "      <td>Female</td>\n",
       "      <td>2</td>\n",
       "      <td>With Family</td>\n",
       "      <td>Survived</td>\n",
       "    </tr>\n",
       "    <tr>\n",
       "      <th>2</th>\n",
       "      <td>1</td>\n",
       "      <td>3</td>\n",
       "      <td>26</td>\n",
       "      <td>7</td>\n",
       "      <td>Southampton</td>\n",
       "      <td>Female</td>\n",
       "      <td>1</td>\n",
       "      <td>Alone</td>\n",
       "      <td>Survived</td>\n",
       "    </tr>\n",
       "    <tr>\n",
       "      <th>3</th>\n",
       "      <td>1</td>\n",
       "      <td>1</td>\n",
       "      <td>35</td>\n",
       "      <td>53</td>\n",
       "      <td>Southampton</td>\n",
       "      <td>Female</td>\n",
       "      <td>2</td>\n",
       "      <td>With Family</td>\n",
       "      <td>Survived</td>\n",
       "    </tr>\n",
       "    <tr>\n",
       "      <th>4</th>\n",
       "      <td>0</td>\n",
       "      <td>3</td>\n",
       "      <td>35</td>\n",
       "      <td>8</td>\n",
       "      <td>Southampton</td>\n",
       "      <td>Male</td>\n",
       "      <td>1</td>\n",
       "      <td>Alone</td>\n",
       "      <td>Not Survived</td>\n",
       "    </tr>\n",
       "  </tbody>\n",
       "</table>\n",
       "</div>"
      ],
      "text/plain": [
       "   Survived  Pclass  Age  Fare     Embarked  Person  Family      IsAlone  \\\n",
       "0         0       3   22     7  Southampton    Male       2  With Family   \n",
       "1         1       1   38    71    Cherbourg  Female       2  With Family   \n",
       "2         1       3   26     7  Southampton  Female       1        Alone   \n",
       "3         1       1   35    53  Southampton  Female       2  With Family   \n",
       "4         0       3   35     8  Southampton    Male       1        Alone   \n",
       "\n",
       "     Survived_d  \n",
       "0  Not Survived  \n",
       "1      Survived  \n",
       "2      Survived  \n",
       "3      Survived  \n",
       "4  Not Survived  "
      ]
     },
     "execution_count": 218,
     "metadata": {},
     "output_type": "execute_result"
    }
   ],
   "source": [
    "titanic_df.head()"
   ]
  },
  {
   "cell_type": "code",
   "execution_count": 219,
   "metadata": {
    "collapsed": false
   },
   "outputs": [
    {
     "name": "stdout",
     "output_type": "stream",
     "text": [
      "<class 'pandas.core.frame.DataFrame'>\n",
      "RangeIndex: 891 entries, 0 to 890\n",
      "Data columns (total 9 columns):\n",
      "Survived      891 non-null int64\n",
      "Pclass        891 non-null int64\n",
      "Age           891 non-null int64\n",
      "Fare          891 non-null int64\n",
      "Embarked      891 non-null object\n",
      "Person        891 non-null object\n",
      "Family        891 non-null int64\n",
      "IsAlone       891 non-null object\n",
      "Survived_d    891 non-null object\n",
      "dtypes: int64(5), object(4)\n",
      "memory usage: 62.7+ KB\n"
     ]
    }
   ],
   "source": [
    "titanic_df.info()"
   ]
  },
  {
   "cell_type": "code",
   "execution_count": 220,
   "metadata": {
    "collapsed": false
   },
   "outputs": [
    {
     "data": {
      "text/html": [
       "<div>\n",
       "<table border=\"1\" class=\"dataframe\">\n",
       "  <thead>\n",
       "    <tr style=\"text-align: right;\">\n",
       "      <th></th>\n",
       "      <th>Survived</th>\n",
       "      <th>Pclass</th>\n",
       "      <th>Age</th>\n",
       "      <th>Fare</th>\n",
       "      <th>Family</th>\n",
       "    </tr>\n",
       "  </thead>\n",
       "  <tbody>\n",
       "    <tr>\n",
       "      <th>count</th>\n",
       "      <td>891.000000</td>\n",
       "      <td>891.000000</td>\n",
       "      <td>891.000000</td>\n",
       "      <td>891.000000</td>\n",
       "      <td>891.000000</td>\n",
       "    </tr>\n",
       "    <tr>\n",
       "      <th>mean</th>\n",
       "      <td>0.383838</td>\n",
       "      <td>2.308642</td>\n",
       "      <td>29.456790</td>\n",
       "      <td>31.785634</td>\n",
       "      <td>1.904602</td>\n",
       "    </tr>\n",
       "    <tr>\n",
       "      <th>std</th>\n",
       "      <td>0.486592</td>\n",
       "      <td>0.836071</td>\n",
       "      <td>13.593417</td>\n",
       "      <td>49.703730</td>\n",
       "      <td>1.613459</td>\n",
       "    </tr>\n",
       "    <tr>\n",
       "      <th>min</th>\n",
       "      <td>0.000000</td>\n",
       "      <td>1.000000</td>\n",
       "      <td>0.000000</td>\n",
       "      <td>0.000000</td>\n",
       "      <td>1.000000</td>\n",
       "    </tr>\n",
       "    <tr>\n",
       "      <th>25%</th>\n",
       "      <td>0.000000</td>\n",
       "      <td>2.000000</td>\n",
       "      <td>20.000000</td>\n",
       "      <td>7.000000</td>\n",
       "      <td>1.000000</td>\n",
       "    </tr>\n",
       "    <tr>\n",
       "      <th>50%</th>\n",
       "      <td>0.000000</td>\n",
       "      <td>3.000000</td>\n",
       "      <td>28.000000</td>\n",
       "      <td>14.000000</td>\n",
       "      <td>1.000000</td>\n",
       "    </tr>\n",
       "    <tr>\n",
       "      <th>75%</th>\n",
       "      <td>1.000000</td>\n",
       "      <td>3.000000</td>\n",
       "      <td>38.000000</td>\n",
       "      <td>31.000000</td>\n",
       "      <td>2.000000</td>\n",
       "    </tr>\n",
       "    <tr>\n",
       "      <th>max</th>\n",
       "      <td>1.000000</td>\n",
       "      <td>3.000000</td>\n",
       "      <td>80.000000</td>\n",
       "      <td>512.000000</td>\n",
       "      <td>11.000000</td>\n",
       "    </tr>\n",
       "  </tbody>\n",
       "</table>\n",
       "</div>"
      ],
      "text/plain": [
       "         Survived      Pclass         Age        Fare      Family\n",
       "count  891.000000  891.000000  891.000000  891.000000  891.000000\n",
       "mean     0.383838    2.308642   29.456790   31.785634    1.904602\n",
       "std      0.486592    0.836071   13.593417   49.703730    1.613459\n",
       "min      0.000000    1.000000    0.000000    0.000000    1.000000\n",
       "25%      0.000000    2.000000   20.000000    7.000000    1.000000\n",
       "50%      0.000000    3.000000   28.000000   14.000000    1.000000\n",
       "75%      1.000000    3.000000   38.000000   31.000000    2.000000\n",
       "max      1.000000    3.000000   80.000000  512.000000   11.000000"
      ]
     },
     "execution_count": 220,
     "metadata": {},
     "output_type": "execute_result"
    }
   ],
   "source": [
    "titanic_df.describe()"
   ]
  },
  {
   "cell_type": "markdown",
   "metadata": {},
   "source": [
    "We can see that after data wrangling, the dataset is cleaned up and we can start explore it."
   ]
  },
  {
   "cell_type": "markdown",
   "metadata": {},
   "source": [
    "## 4  Exploration"
   ]
  },
  {
   "cell_type": "markdown",
   "metadata": {},
   "source": [
    "### 4.1 Does natural demographics matter?\n",
    "If there were a rescue team aside the sunking Titanic, it is reasonable to save the children and women at first. So we will first take a look at the **Age** and **Person** data."
   ]
  },
  {
   "cell_type": "code",
   "execution_count": 221,
   "metadata": {
    "collapsed": false,
    "scrolled": false
   },
   "outputs": [
    {
     "data": {
      "text/plain": [
       "<seaborn.axisgrid.FacetGrid at 0x11f4c0710>"
      ]
     },
     "execution_count": 221,
     "metadata": {},
     "output_type": "execute_result"
    },
    {
     "data": {
      "image/png": "[encoded data removed]",
      "text/plain": [
       "<matplotlib.figure.Figure at 0x1123a1a50>"
      ]
     },
     "metadata": {},
     "output_type": "display_data"
    }
   ],
   "source": [
    "# Draw a graph of survival probability density by age\n",
    "age_max = titanic_df['Age'].max()\n",
    "\n",
    "age_facet = sns.FacetGrid(titanic_df, hue='Survived_d', aspect=4, palette='Blues')\n",
    "age_facet.map(plt.hist, 'Age', normed=True, bins=age_max, range=(0,age_max), alpha=0.7)\n",
    "age_facet.set(xlim=(0, age_max))\n",
    "age_facet.set_ylabels('Probability Density')\n",
    "age_facet.add_legend()"
   ]
  },
  {
   "cell_type": "code",
   "execution_count": 222,
   "metadata": {
    "collapsed": false
   },
   "outputs": [
    {
     "data": {
      "text/plain": [
       "<matplotlib.text.Text at 0x11ece1710>"
      ]
     },
     "execution_count": 222,
     "metadata": {},
     "output_type": "execute_result"
    },
    {
     "data": {
      "image/png": "[encoded data removed]",
      "text/plain": [
       "<matplotlib.figure.Figure at 0x11f16af50>"
      ]
     },
     "metadata": {},
     "output_type": "display_data"
    }
   ],
   "source": [
    "# Draw a graph of average survived passengers by female, male and child\n",
    "fig, axis1 = plt.subplots(1, 1, figsize=(4,4))\n",
    "axis1.set_title('Average Survival Rate By Person')\n",
    "sur_ave_per = titanic_df[['Person', 'Survived']].groupby(['Person'], as_index=False).mean()\n",
    "\n",
    "sns.barplot(x='Person', y='Survived', data=sur_ave_per, order=('Male', 'Female', 'Child'), palette='Blues')\n",
    "axis1.set_xlabel('Person')\n",
    "axis1.set_ylabel('Survival Rate')"
   ]
  },
  {
   "cell_type": "markdown",
   "metadata": {},
   "source": [
    "From the graphs above, we may be able to tell that:\n",
    "- A child had a higher survival rate compared to an adult.\n",
    "- A woman had a higher survival rate compared to a man.\n",
    "- It is not easy to draw a conclusion on the elderly person because of insufficient data points.\n",
    "\n",
    "To make an evidental conclusion, now I am going to use statistical method to conduct tests. I test the means of **Survived** by different **Person** groups. The null hypothesis is that the means of **Survived** are equal for each two of the groups. I use 95% significant level for the two-sided t-tests of independent samples."
   ]
  },
  {
   "cell_type": "code",
   "execution_count": 223,
   "metadata": {
    "collapsed": false
   },
   "outputs": [],
   "source": [
    "# Create groups of survival for t-test\n",
    "child_sur = titanic_df[titanic_df['Person'] == 'Child']['Survived']\n",
    "female_sur = titanic_df[titanic_df['Person'] == 'Female']['Survived']\n",
    "male_sur = titanic_df[titanic_df['Person'] == 'Male']['Survived']"
   ]
  },
  {
   "cell_type": "code",
   "execution_count": 224,
   "metadata": {
    "collapsed": false
   },
   "outputs": [],
   "source": [
    "# Define a function to report test results\n",
    "def test_result(a, b):\n",
    "    t = stats.ttest_ind(a, b)[0]\n",
    "    p_value = stats.ttest_ind(a, b)[1]\n",
    "    if p_value < 0.05:\n",
    "        print 'We reject the null hypothesis because the p-value is less than 0.05.'\n",
    "    else:\n",
    "        print 'We are not able to reject the null hypothesis because the p-value is larger than 0.05.'"
   ]
  },
  {
   "cell_type": "code",
   "execution_count": 225,
   "metadata": {
    "collapsed": false
   },
   "outputs": [
    {
     "name": "stdout",
     "output_type": "stream",
     "text": [
      "Child & Female t-test result:\n",
      "We reject the null hypothesis because the p-value is less than 0.05.\n",
      "----------------------------------------------------------------------\n",
      "Child & Male t-test result:\n",
      "We reject the null hypothesis because the p-value is less than 0.05.\n",
      "----------------------------------------------------------------------\n",
      "Female & Male t-test result:\n",
      "We reject the null hypothesis because the p-value is less than 0.05.\n"
     ]
    }
   ],
   "source": [
    "# Conduct t-test between groups\n",
    "print 'Child & Female t-test result:'\n",
    "test_result(child_sur, female_sur)\n",
    "print '-' * 70\n",
    "print 'Child & Male t-test result:'\n",
    "test_result(child_sur, male_sur)\n",
    "print '-' * 70\n",
    "print 'Female & Male t-test result:'\n",
    "test_result(female_sur, male_sur)"
   ]
  },
  {
   "cell_type": "markdown",
   "metadata": {},
   "source": [
    "From the test results, each of the **Person** groups has different mean of **Survived** from the others. And based on the graphs above, we can tell that female had the highest survival rate among all groups, followed by child, and male at the last rank."
   ]
  },
  {
   "cell_type": "markdown",
   "metadata": {
    "collapsed": true
   },
   "source": [
    "### 4.2 Does family help survival?\n",
    "Is the family size related to survival? Take a look at the graphs first."
   ]
  },
  {
   "cell_type": "code",
   "execution_count": 226,
   "metadata": {
    "collapsed": false
   },
   "outputs": [
    {
     "data": {
      "text/plain": [
       "<seaborn.axisgrid.FacetGrid at 0x11f2dffd0>"
      ]
     },
     "execution_count": 226,
     "metadata": {},
     "output_type": "execute_result"
    },
    {
     "data": {
      "image/png": "[encoded data removed]",
      "text/plain": [
       "<matplotlib.figure.Figure at 0x11c208750>"
      ]
     },
     "metadata": {},
     "output_type": "display_data"
    }
   ],
   "source": [
    "# Draw a graph of survival probability density by family size\n",
    "family_max = titanic_df['Family'].max()\n",
    "\n",
    "family_facet = sns.FacetGrid(titanic_df, hue='Survived_d', aspect=2, palette='Blues')\n",
    "family_facet.map(plt.hist, 'Family', normed=True, bins=family_max, range=(0,family_max), alpha=0.7)\n",
    "family_facet.set(xlim=(1, family_max))\n",
    "family_facet.set_xlabels('Family Size')\n",
    "family_facet.set_ylabels('Probability Density')\n",
    "family_facet.add_legend()"
   ]
  },
  {
   "cell_type": "code",
   "execution_count": 227,
   "metadata": {
    "collapsed": false
   },
   "outputs": [
    {
     "data": {
      "text/plain": [
       "<matplotlib.text.Text at 0x11eb6b090>"
      ]
     },
     "execution_count": 227,
     "metadata": {},
     "output_type": "execute_result"
    },
    {
     "data": {
      "image/png": "[encoded data removed]",
      "text/plain": [
       "<matplotlib.figure.Figure at 0x11f2e84d0>"
      ]
     },
     "metadata": {},
     "output_type": "display_data"
    }
   ],
   "source": [
    "# Draw a graph of average survived passengers by alone or not\n",
    "fig, axis1 = plt.subplots(1, 1, figsize=(3,4))\n",
    "axis1.set_title('Average Survival Rate By Alone or Not')\n",
    "sur_ave_alone = titanic_df[['IsAlone', 'Survived']].groupby(['IsAlone'], as_index=False).mean()\n",
    "\n",
    "sns.barplot(x='IsAlone', y='Survived', data=sur_ave_alone, palette='Blues')\n",
    "axis1.set_xlabel('Alone or Not')\n",
    "axis1.set_ylabel('Survival Rate')"
   ]
  },
  {
   "cell_type": "markdown",
   "metadata": {},
   "source": [
    "From the graphs above, we can see that there might be a survival penalty for alone person and family with size larger than 4. I will test the means of **Survived** by different family size as what I do in Section 4.1."
   ]
  },
  {
   "cell_type": "code",
   "execution_count": 228,
   "metadata": {
    "collapsed": true
   },
   "outputs": [],
   "source": [
    "# Create groups of survival for t-test\n",
    "alone_sur = titanic_df[titanic_df['IsAlone'] == 'Alone']['Survived']\n",
    "small_family_sur = titanic_df[titanic_df['Family'] <= 4]['Survived']\n",
    "large_family_sur = titanic_df[titanic_df['Family'] > 4]['Survived']"
   ]
  },
  {
   "cell_type": "code",
   "execution_count": 229,
   "metadata": {
    "collapsed": false
   },
   "outputs": [
    {
     "name": "stdout",
     "output_type": "stream",
     "text": [
      "Singleton & Small Family t-test result:\n",
      "We reject the null hypothesis because the p-value is less than 0.05.\n",
      "----------------------------------------------------------------------\n",
      "Singleton & Large Family t-test result:\n",
      "We reject the null hypothesis because the p-value is less than 0.05.\n",
      "----------------------------------------------------------------------\n",
      "Small Family & Large Family t-test result:\n",
      "We reject the null hypothesis because the p-value is less than 0.05.\n"
     ]
    }
   ],
   "source": [
    "# Conduct t-test between groups\n",
    "print 'Singleton & Small Family t-test result:'\n",
    "test_result(alone_sur, small_family_sur)\n",
    "print '-' * 70\n",
    "print 'Singleton & Large Family t-test result:'\n",
    "test_result(alone_sur, large_family_sur)\n",
    "print '-' * 70\n",
    "print 'Small Family & Large Family t-test result:'\n",
    "test_result(small_family_sur, large_family_sur)"
   ]
  },
  {
   "cell_type": "markdown",
   "metadata": {},
   "source": [
    "From the test results, we can tell that alone person and large family definitely suffered a survival penalty compared to small family."
   ]
  },
  {
   "cell_type": "markdown",
   "metadata": {
    "collapsed": true
   },
   "source": [
    "### 4.3 What about embarked characteristics?"
   ]
  },
  {
   "cell_type": "markdown",
   "metadata": {
    "collapsed": true
   },
   "source": [
    "I am going to discuss about **Pclass**, **Embarked** and **Fare**. Again, let's begin with the plots."
   ]
  },
  {
   "cell_type": "code",
   "execution_count": 230,
   "metadata": {
    "collapsed": false
   },
   "outputs": [
    {
     "data": {
      "text/plain": [
       "<matplotlib.text.Text at 0x11f9f47d0>"
      ]
     },
     "execution_count": 230,
     "metadata": {},
     "output_type": "execute_result"
    },
    {
     "data": {
      "image/png": "[encoded data removed]",
      "text/plain": [
       "<matplotlib.figure.Figure at 0x11eb57d90>"
      ]
     },
     "metadata": {},
     "output_type": "display_data"
    }
   ],
   "source": [
    "# Draw a graph of average survived passengers by price class and embarkment\n",
    "fig, (axis1, axis2) = plt.subplots(1, 2, figsize=(10,4))\n",
    "axis1.set_title('Average Survival Rate By Price Class')\n",
    "axis2.set_title('Average Survival Rate By Embarkment')\n",
    "\n",
    "sur_ave_pc = titanic_df[['Pclass', 'Survived']].groupby(['Pclass'], as_index=False).mean()\n",
    "sns.barplot(x='Pclass', y='Survived', data=sur_ave_pc, palette='Blues', ax=axis1)\n",
    "axis1.set_xlabel('Price Class')\n",
    "axis1.set_ylabel('Survival Rate')\n",
    "\n",
    "sur_ave_em = titanic_df[['Embarked', 'Survived']].groupby(['Embarked'], as_index=False).mean()\n",
    "sns.barplot(x='Embarked', y='Survived', data=sur_ave_em, palette='Blues', ax=axis2)\n",
    "axis2.set_xlabel('Embarkment')\n",
    "axis2.set_ylabel('Survival Rate')"
   ]
  },
  {
   "cell_type": "code",
   "execution_count": 231,
   "metadata": {
    "collapsed": false
   },
   "outputs": [
    {
     "data": {
      "text/plain": [
       "<matplotlib.text.Text at 0x122d84750>"
      ]
     },
     "execution_count": 231,
     "metadata": {},
     "output_type": "execute_result"
    },
    {
     "data": {
      "image/png": "[encoded data removed]",
      "text/plain": [
       "<matplotlib.figure.Figure at 0x11eac6590>"
      ]
     },
     "metadata": {},
     "output_type": "display_data"
    }
   ],
   "source": [
    "# Draw a box plot of fare by survived or not\n",
    "# Since only one data point was with price over $300, I set a limit for fare to better view the box plot.\n",
    "fig, axis1 = plt.subplots(1, 1, figsize=(12,3))\n",
    "axis1.set_title('Box Plot of Fare By Survived or Not')\n",
    "\n",
    "sns.boxplot(x='Fare', y='Survived_d', data=titanic_df, order=('Survived', 'Not Survived'), \\\n",
    "            orient='h', palette='Blues', width=0.5, ax=axis1)\n",
    "axis1.set_xlim(0, 300)\n",
    "axis1.set_ylabel('Survived or Not', rotation=True)"
   ]
  },
  {
   "cell_type": "markdown",
   "metadata": {},
   "source": [
    "From the graphs above, we may be able to tell that:\n",
    "- People with higher price class might have higher survival rate.\n",
    "- People embarked from Cherbourg might have higher survival rate than those from Queenstown and Southampton.\n",
    "- The fare of survived people was widely spread, while that of who did not survive was narrowly distributed.\n",
    "\n",
    "Since the fare and the price class is positively related, I am going to test the means of **Survived** by different **Pclass** and **Embarked** groups. The null hypothesis and the significant level are the same as below tests."
   ]
  },
  {
   "cell_type": "code",
   "execution_count": 232,
   "metadata": {
    "collapsed": true
   },
   "outputs": [],
   "source": [
    "# Create groups of survival for t-test\n",
    "first_sur = titanic_df[titanic_df['Pclass'] == 1]['Survived']\n",
    "second_sur = titanic_df[titanic_df['Pclass'] == 2]['Survived']\n",
    "third_sur = titanic_df[titanic_df['Pclass'] == 3]['Survived']"
   ]
  },
  {
   "cell_type": "code",
   "execution_count": 233,
   "metadata": {
    "collapsed": false
   },
   "outputs": [
    {
     "name": "stdout",
     "output_type": "stream",
     "text": [
      "1st Class & 2nd Class t-test result:\n",
      "We reject the null hypothesis because the p-value is less than 0.05.\n",
      "----------------------------------------------------------------------\n",
      "1st Class & 3rd Class t-test result:\n",
      "We reject the null hypothesis because the p-value is less than 0.05.\n",
      "----------------------------------------------------------------------\n",
      "2nd Class & 3rd Class t-test result:\n",
      "We reject the null hypothesis because the p-value is less than 0.05.\n"
     ]
    }
   ],
   "source": [
    "# Conduct t-test between groups\n",
    "print '1st Class & 2nd Class t-test result:'\n",
    "test_result(first_sur, second_sur)\n",
    "print '-' * 70\n",
    "print '1st Class & 3rd Class t-test result:'\n",
    "test_result(first_sur, third_sur)\n",
    "print '-' * 70\n",
    "print '2nd Class & 3rd Class t-test result:'\n",
    "test_result(second_sur, third_sur)"
   ]
  },
  {
   "cell_type": "code",
   "execution_count": 234,
   "metadata": {
    "collapsed": false
   },
   "outputs": [],
   "source": [
    "# Create groups of survival for t-test\n",
    "cher_sur = titanic_df[titanic_df['Embarked'] == 'Cherbourg']['Survived']\n",
    "queen_sur = titanic_df[titanic_df['Embarked'] == 'Queenstown']['Survived']\n",
    "south_sur = titanic_df[titanic_df['Embarked'] == 'Southampton']['Survived']"
   ]
  },
  {
   "cell_type": "code",
   "execution_count": 235,
   "metadata": {
    "collapsed": false
   },
   "outputs": [
    {
     "name": "stdout",
     "output_type": "stream",
     "text": [
      "Cherbourg & Queenstown t-test result:\n",
      "We reject the null hypothesis because the p-value is less than 0.05.\n",
      "----------------------------------------------------------------------\n",
      "Cherbourg & Southampton t-test result:\n",
      "We reject the null hypothesis because the p-value is less than 0.05.\n",
      "----------------------------------------------------------------------\n",
      "Queenstown & Southampton t-test result:\n",
      "We are not able to reject the null hypothesis because the p-value is larger than 0.05.\n"
     ]
    }
   ],
   "source": [
    "# Conduct t-test between groups\n",
    "print 'Cherbourg & Queenstown t-test result:'\n",
    "test_result(cher_sur, queen_sur)\n",
    "print '-' * 70\n",
    "print 'Cherbourg & Southampton t-test result:'\n",
    "test_result(cher_sur, south_sur)\n",
    "print '-' * 70\n",
    "print 'Queenstown & Southampton t-test result:'\n",
    "test_result(queen_sur, south_sur)"
   ]
  },
  {
   "cell_type": "markdown",
   "metadata": {},
   "source": [
    "From the test results, each of the **Pclass** groups has different mean of **Survived** from the others. And based on the graphs above, we can tell that the higher the price class was, the higher survival rate was.\n",
    "Also, people embarked from Cherbourg had higher survival rate than those embarked from Queenstown and Southampton."
   ]
  },
  {
   "cell_type": "markdown",
   "metadata": {},
   "source": [
    "## 5 Conclusion"
   ]
  },
  {
   "cell_type": "markdown",
   "metadata": {
    "collapsed": true
   },
   "source": [
    "Based on the graphs and statistical test results, I am going to make some conclusions to the questions mentioned in Section 1.\n",
    "- Female and child were more likely to survive than male. People would let women and children to leave from the sinking ship to lifeboats, which increased the survival rate of these two groups.\n",
    "- Singleton and large family had a survival penalty compared to small family. People could receive help from family members, but too large family size might hinder the rescue process.\n",
    "- Higher price class might result in higher survival rate. People with higher social class would have more information when the ship began to sink, and might have more ways to save their life.\n",
    "- People embarked from Cherbourg had higher survival rate than those embarked from Queenstown and Southampton. There are not enough information about these three embarkment, so it is hard to see a link between embarkment and survival.\n",
    "\n",
    "The results of analysis still has some limitations:\n",
    "- The missing **Age** data is simulated in a simple way. There may be bias since the distribution is a bit positively skewed.\n",
    "- There are more first class tickets than second class tickets, which is not common to regular shipping tickets. There may be sample bias since the sample contains 891 out of 2,224 passengers and crew data points.\n",
    "- There are a lot of missing values in **Cabin** such that I am not able to analyze it. We might obtain more information if the data is complete."
   ]
  },
  {
   "cell_type": "markdown",
   "metadata": {
    "collapsed": true
   },
   "source": [
    "## Reference\n",
    "[1]Data source: [Titanic: Machine Learning from Disaster](https://www.kaggle.com/c/titanic/data)\n",
    "\n",
    "[2]Python documentations:\n",
    "\n",
    "[numpy.random.randint](https://docs.scipy.org/doc/numpy-1.10.4/reference/generated/numpy.random.randint.html)\n",
    "\n",
    "[seaborn.FacetGrid](http://seaborn.pydata.org/generated/seaborn.FacetGrid.html)\n",
    "\n",
    "[seaborn.barplot](http://seaborn.pydata.org/generated/seaborn.barplot.html)\n",
    "\n",
    "[matplotlib.pyplot](http://matplotlib.org/api/pyplot_api.html)\n",
    "\n",
    "[pandas.DataFrame.plot](http://pandas.pydata.org/pandas-docs/stable/generated/pandas.DataFrame.plot.html)\n",
    "\n",
    "[pandas.DataFrame.replace](http://pandas.pydata.org/pandas-docs/stable/generated/pandas.DataFrame.replace.html)"
   ]
  }
 ],
 "metadata": {
  "anaconda-cloud": {},
  "kernelspec": {
   "display_name": "Python [conda env:DAND]",
   "language": "python",
   "name": "conda-env-DAND-py"
  },
  "language_info": {
   "codemirror_mode": {
    "name": "ipython",
    "version": 2
   },
   "file_extension": ".py",
   "mimetype": "text/x-python",
   "name": "python",
   "nbconvert_exporter": "python",
   "pygments_lexer": "ipython2",
   "version": "2.7.12"
  }
 },
 "nbformat": 4,
 "nbformat_minor": 2
}
